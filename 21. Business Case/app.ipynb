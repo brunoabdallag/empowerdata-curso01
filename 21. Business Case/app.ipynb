{
 "cells": [
  {
   "cell_type": "markdown",
   "metadata": {},
   "source": [
    "# Entrada de dados"
   ]
  },
  {
   "cell_type": "code",
   "execution_count": 24,
   "metadata": {},
   "outputs": [],
   "source": [
    "nome = input('Digite o nome do aluno(a):' ).strip()\n",
    "idade = input('Digite a idade do aluno(a): ').strip()\n",
    "peso = input('Digite o peso do aluno(a) kg: ').replace(',', '.')\n",
    "altura = input('Digite a altura do aluno(a) m: ').replace(',', '.')"
   ]
  },
  {
   "cell_type": "markdown",
   "metadata": {},
   "source": [
    "# Calculando o IMC"
   ]
  },
  {
   "cell_type": "code",
   "execution_count": 25,
   "metadata": {},
   "outputs": [],
   "source": [
    "imc = float(peso) / (float(altura) ** 2)\n"
   ]
  },
  {
   "cell_type": "markdown",
   "metadata": {},
   "source": [
    "# Criando o status"
   ]
  },
  {
   "cell_type": "code",
   "execution_count": 31,
   "metadata": {},
   "outputs": [],
   "source": [
    "status = \"dentro do peso\"\n",
    "if imc > 25:\n",
    "    status = \"sobrepeso\""
   ]
  },
  {
   "cell_type": "markdown",
   "metadata": {},
   "source": [
    "# Gerando o PDF"
   ]
  },
  {
   "cell_type": "markdown",
   "metadata": {},
   "source": [
    "### pip  install pdf_reports\n",
    "\n",
    "- Funciona apenas em sistemas Linux."
   ]
  },
  {
   "cell_type": "code",
   "execution_count": 42,
   "metadata": {},
   "outputs": [],
   "source": [
    "import pdf_reports"
   ]
  },
  {
   "cell_type": "code",
   "execution_count": 46,
   "metadata": {},
   "outputs": [],
   "source": [
    "dados_aluno = {\n",
    "    \"nome\": nome,\n",
    "    \"idade\": idade,\n",
    "    \"peso\": peso,\n",
    "    \"altura\": altura,\n",
    "    \"imc\": round(imc, 2),\n",
    "    \"status\": status\n",
    "}"
   ]
  },
  {
   "cell_type": "code",
   "execution_count": 44,
   "metadata": {},
   "outputs": [],
   "source": [
    "template = pdf_reports.pug_to_html(\"template.pug\", dados=dados_aluno)"
   ]
  },
  {
   "cell_type": "code",
   "execution_count": null,
   "metadata": {},
   "outputs": [],
   "source": [
    "pdf_reports.write_report(template, \"ficha_aluno.pdf\", use_default_styling=False)"
   ]
  }
 ],
 "metadata": {
  "kernelspec": {
   "display_name": "Python 3",
   "language": "python",
   "name": "python3"
  },
  "language_info": {
   "codemirror_mode": {
    "name": "ipython",
    "version": 3
   },
   "file_extension": ".py",
   "mimetype": "text/x-python",
   "name": "python",
   "nbconvert_exporter": "python",
   "pygments_lexer": "ipython3",
   "version": "3.12.3"
  }
 },
 "nbformat": 4,
 "nbformat_minor": 2
}
