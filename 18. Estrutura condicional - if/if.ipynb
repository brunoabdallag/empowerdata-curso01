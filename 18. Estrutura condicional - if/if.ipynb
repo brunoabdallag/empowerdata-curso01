{
 "cells": [
  {
   "cell_type": "markdown",
   "metadata": {},
   "source": [
    "# Estrutura condicional **if**\n",
    "\n",
    "Executa ou não um comando ou um bloco de comandos de acordo com o resultado de um teste condicional.\n",
    "\n",
    "- if significa \"se\"\n",
    "- testes lógicos podem utilizar os operadores lógicos (and, or e not)\n",
    "- estrutura condicional pode ser simples ou composta (else - \"senão\")\n",
    "\n"
   ]
  },
  {
   "cell_type": "code",
   "execution_count": 6,
   "metadata": {},
   "outputs": [],
   "source": [
    "idade = 10"
   ]
  },
  {
   "cell_type": "code",
   "execution_count": 4,
   "metadata": {},
   "outputs": [
    {
     "name": "stdout",
     "output_type": "stream",
     "text": [
      "É maior de idade.\n"
     ]
    }
   ],
   "source": [
    "if idade >= 18:\n",
    "    print('É maior de idade.')"
   ]
  },
  {
   "cell_type": "code",
   "execution_count": 8,
   "metadata": {},
   "outputs": [
    {
     "name": "stdout",
     "output_type": "stream",
     "text": [
      "Não é maior de idade.\n"
     ]
    }
   ],
   "source": [
    "if idade >= 18:\n",
    "    print('É maior de idade.')\n",
    "\n",
    "else:\n",
    "    print('Não é maior de idade.')"
   ]
  },
  {
   "cell_type": "code",
   "execution_count": 13,
   "metadata": {},
   "outputs": [],
   "source": [
    "idade = 18\n",
    "tem_carteira_motorista = False"
   ]
  },
  {
   "cell_type": "code",
   "execution_count": 14,
   "metadata": {},
   "outputs": [
    {
     "name": "stdout",
     "output_type": "stream",
     "text": [
      "Pessoa não pode dirigir!\n"
     ]
    }
   ],
   "source": [
    "if idade >= 18 and tem_carteira_motorista == True:\n",
    "    print('Pessoa pode dirigir!')\n",
    "\n",
    "else:\n",
    "    print('Pessoa não pode dirigir!')"
   ]
  }
 ],
 "metadata": {
  "kernelspec": {
   "display_name": "Python 3",
   "language": "python",
   "name": "python3"
  },
  "language_info": {
   "codemirror_mode": {
    "name": "ipython",
    "version": 3
   },
   "file_extension": ".py",
   "mimetype": "text/x-python",
   "name": "python",
   "nbconvert_exporter": "python",
   "pygments_lexer": "ipython3",
   "version": "3.12.3"
  }
 },
 "nbformat": 4,
 "nbformat_minor": 2
}
